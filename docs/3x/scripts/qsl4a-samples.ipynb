{
 "cells": [
  {
   "metadata": {},
   "cell_type": "markdown",
   "source": "# 1. QSL4A简介",
   "id": "696e0566d0a30433"
  },
  {
   "metadata": {},
   "cell_type": "markdown",
   "source": "QSL4A（QPython Scripting Layer for Android）是 QPython 团队在 SL4A 项目基础上开发的扩展库，旨在为 Android 开发者提供更灵活的脚本编程环境。通过 QSL4A，开发者不仅可以使用 Python 快速实现 Android 应用的原型，还可以通过调用 Android API，实现设备控制和自动化任务。",
   "id": "d1cbad3c76a2a0d5"
  },
  {
   "metadata": {},
   "cell_type": "markdown",
   "source": "## Hello World示例",
   "id": "4a258a50471bdfff"
  },
  {
   "metadata": {
    "jupyter": {
     "is_executing": true
    }
   },
   "cell_type": "code",
   "source": [
    "from androidhelper import Android\n",
    "# 调用 Android API\n",
    "droid = Android()\n",
    "# 弹窗提示\n",
    "droid.makeToast(\"Hello World!\")"
   ],
   "id": "a44d45c2aab733c6",
   "outputs": [],
   "execution_count": null
  },
  {
   "metadata": {},
   "cell_type": "markdown",
   "source": "# 2. 用户界面交互",
   "id": "9a25e094d06d362b"
  },
  {
   "metadata": {},
   "cell_type": "markdown",
   "source": "## 弹出消息提示",
   "id": "442f7ae1078e96e0"
  },
  {
   "metadata": {},
   "cell_type": "markdown",
   "source": [
    "makeToast 是用于显示 Android Toast 消息的一个方法。Toast 是一种短暂的消息提示，不会阻塞用户操作，常用于提供简单的反馈或通知。\n",
    "\n",
    "默认情况下，SL4A 的 makeToast 方法只支持短暂（short）显示，无法直接控制 Toast 显示的时间长度。"
   ],
   "id": "b396ff56de112bdc"
  },
  {
   "metadata": {},
   "cell_type": "code",
   "outputs": [],
   "execution_count": null,
   "source": "droid.makeToast(\"Hello, QPython!\")",
   "id": "7286cf880716088a"
  },
  {
   "metadata": {},
   "cell_type": "markdown",
   "source": "## 剪贴板",
   "id": "3fd83f78bd60889a"
  },
  {
   "metadata": {},
   "cell_type": "markdown",
   "source": "QSL4A 提供了一个简便的接口来操作剪贴板，通常用于与剪贴板交互，复制和粘贴文本数据。 ",
   "id": "390fcfb986b8c31"
  },
  {
   "metadata": {},
   "cell_type": "code",
   "outputs": [],
   "execution_count": null,
   "source": [
    "# 获取剪贴板结果\n",
    "clipboard = droid.getClipboard().result"
   ],
   "id": "c5f0c5b93d072e8e"
  },
  {
   "metadata": {},
   "cell_type": "code",
   "outputs": [],
   "execution_count": null,
   "source": [
    "# 设置剪贴板\n",
    "droid.setClipboard(\"Hello QPython\")"
   ],
   "id": "31df315851b83e9f"
  },
  {
   "metadata": {},
   "cell_type": "markdown",
   "source": "## 对话框",
   "id": "18904e86d9f96bcf"
  },
  {
   "metadata": {},
   "cell_type": "markdown",
   "source": "## 常见对话框API",
   "id": "2d481b2c53df5c5c"
  },
  {
   "metadata": {},
   "cell_type": "markdown",
   "source": "### `dialogCreateAlert`- 创建简单的警告对话框",
   "id": "2152cc66050edb3c"
  },
  {
   "metadata": {},
   "cell_type": "markdown",
   "source": [
    "参数:\n",
    "- `title`: 对话框标题。\n",
    "- `message`: 对话框内容"
   ],
   "id": "4740e8117fd8175"
  },
  {
   "metadata": {},
   "cell_type": "code",
   "outputs": [],
   "execution_count": null,
   "source": [
    "droid.dialogCreateAlert(\"提示\", \"是否继续？\")\n",
    "droid.dialogSetPositiveButtonText(\"是\")\n",
    "droid.dialogSetNegativeButtonText(\"否\")\n",
    "droid.dialogShow()  # dialogShow() 用于显示创建的对话框。\n",
    "response = droid.dialogGetResponse().result  # dialogGetResponse() 返回用户的交互结果\n",
    "print(response)  # 根据用户选择返回结果"
   ],
   "id": "190a5a8f2be3f3c6"
  },
  {
   "metadata": {},
   "cell_type": "markdown",
   "source": "### `dialogCreateInput`-允许用户输入的对话框",
   "id": "ce50fd5f70bff29f"
  },
  {
   "metadata": {},
   "cell_type": "markdown",
   "source": [
    "参数:\n",
    "- `title`: 对话框标题。\n",
    "- `message`: 提示内容。\n",
    "- `defaultText`: 默认显示文本（可选）。\n",
    "- `password`: 是否为密码输入模式（可选，默认False）"
   ],
   "id": "a16f0b6a765abc1c"
  },
  {
   "metadata": {},
   "cell_type": "code",
   "outputs": [],
   "execution_count": null,
   "source": [
    "# 创建基本的输入对话框\n",
    "# 参数依次为：标题、提示信息、默认输入值\n",
    "droid.dialogCreateInput(\"输入\", \"请输入姓名:\", \"默认名字\")\n",
    "\n",
    "# 设置按钮\n",
    "droid.dialogSetPositiveButtonText(\"确定\")\n",
    "droid.dialogSetNegativeButtonText(\"取消\")\n",
    "\n",
    "# 显示对话框\n",
    "droid.dialogShow()\n",
    "\n",
    "# 获取用户输入的结果\n",
    "response = droid.dialogGetResponse().result\n",
    "\n",
    "# 判断用户操作并获取输入值\n",
    "if response.get('which') == 'positive':\n",
    "    # 获取用户输入的文本\n",
    "    input_value = droid.dialogGetInput().result\n",
    "    print(\"用户输入:\", input_value)\n",
    "elif response.get('which') == 'negative':\n",
    "    print(\"用户取消输入\")"
   ],
   "id": "1b139cd059200e2"
  },
  {
   "metadata": {},
   "cell_type": "markdown",
   "source": "### `dialogSetItems` - 带有选项列表的对话框",
   "id": "6f15e16076654ea9"
  },
  {
   "metadata": {},
   "cell_type": "markdown",
   "source": [
    "参数:\n",
    "- `title`: 对话框标题。\n",
    "- `items`: 一个列表，表示可选项。"
   ],
   "id": "37039e81647ac755"
  },
  {
   "metadata": {},
   "cell_type": "code",
   "outputs": [],
   "execution_count": null,
   "source": [
    "options = [\"选项1\", \"选项2\", \"选项3\"]\n",
    "droid.dialogCreateAlert(\"选择一个选项\")\n",
    "droid.dialogSetItems(options)\n",
    "droid.dialogShow()\n",
    "response = droid.dialogGetResponse().result\n",
    "print(\"选择的索引是:\", response[\"item\"])"
   ],
   "id": "d2e50594a1935ab7"
  },
  {
   "metadata": {},
   "cell_type": "markdown",
   "source": "### `dialogCreateDatePicker`- 日期选择器对话框",
   "id": "b43b6b6043b02765"
  },
  {
   "metadata": {},
   "cell_type": "code",
   "outputs": [],
   "execution_count": null,
   "source": [
    "droid.dialogCreateDatePicker(2024, 11, 26)  # 年，月，日\n",
    "droid.dialogShow()\n",
    "response = droid.dialogGetResponse().result\n",
    "print(\"选择的日期是:\", response[\"year\"], response[\"month\"], response[\"day\"])"
   ],
   "id": "7fb54cedf250888"
  },
  {
   "metadata": {},
   "cell_type": "markdown",
   "source": "### `dialogCreateTimePicker`- 时间选择器对话框",
   "id": "a0deef6d3e2ae66"
  },
  {
   "metadata": {},
   "cell_type": "code",
   "outputs": [],
   "execution_count": null,
   "source": [
    "droid.dialogCreateTimePicker(12, 30)  # 小时, 分钟\n",
    "droid.dialogShow()\n",
    "response = droid.dialogGetResponse().result\n",
    "print(\"选择的时间是:\", response[\"hour\"], response[\"minute\"])"
   ],
   "id": "19dd3040b0a7aa78"
  },
  {
   "metadata": {},
   "cell_type": "markdown",
   "source": "## 对话框的操作",
   "id": "d9b4ca058c3f8cb3"
  },
  {
   "metadata": {},
   "cell_type": "markdown",
   "source": [
    "### `dialogShow()`- 显示创建的对话框\n",
    "`dialogGetResponse()`- 返回用户的交互结果\n",
    "\n",
    " `response.result` 可能包含的键： \n",
    "- `which`: 表示点击的按钮（'positive'/'negative'/'neutral'）\n",
    "- `item`: 列表选择时的索引\n",
    "- `canceled`: 对话框是否被取消\n",
    "### `dialogGetInput()`- 获取用户输入内容\n",
    "通常与其他对话框方法配合使用，能够实现各种用户输入场景。\n",
    "- 返回值是一个 `Result` 对象\n",
    "- 使用 `.result` 获取实际的输入文本\n",
    "- 必须在 `dialogShow()` 之后使用\n",
    "- 必须在获取按钮响应后使用"
   ],
   "id": "a0d1c489780137ea"
  },
  {
   "metadata": {},
   "cell_type": "markdown",
   "source": "### `dialogGetPassword()`- 获取输入的密码",
   "id": "2aa44b1220b1a936"
  },
  {
   "metadata": {},
   "cell_type": "code",
   "outputs": [],
   "execution_count": null,
   "source": [
    "droid.dialogCreateInput(\"设置密码\", \"请输入密码:\", \"\", 'True')\n",
    "droid.dialogSetPositiveButtonText(\"确定\")\n",
    "droid.dialogShow()\n",
    "\n",
    "response = droid.dialogGetResponse().result\n",
    "if response.get('which') == 'positive':\n",
    "    password1 = droid.dialogGetPassword().result\n",
    "    print(\"用户输入了: \", password1)\n",
    "else:\n",
    "    print(\"用户取消输入\")"
   ],
   "id": "7d90d831e77099ac"
  },
  {
   "metadata": {},
   "cell_type": "markdown",
   "source": "## `Vibrate` - 控制设备振动",
   "id": "a402d5a8dd5ac00a"
  },
  {
   "metadata": {},
   "cell_type": "code",
   "outputs": [],
   "execution_count": null,
   "source": [
    "# 基本用法 - 振动指定时长(毫秒)\n",
    "droid.vibrate(300)  # 振动300毫秒"
   ],
   "id": "f12180bc8dd8e8c1"
  },
  {
   "metadata": {},
   "cell_type": "markdown",
   "source": "# 3. 传感器和硬件访问",
   "id": "baad609c716fb2ea"
  },
  {
   "metadata": {},
   "cell_type": "markdown",
   "source": "QSL4A 提供了一套传感器API，允许开发者访问设备的各种传感器数据，如加速度计、陀螺仪、磁力计、光传感器等。这些API可以用于实现与环境交互的应用，如游戏、导航或运动检测。 ",
   "id": "d267c82ae61578a5"
  },
  {
   "metadata": {},
   "cell_type": "markdown",
   "source": [
    "## 传感器API的主要功能\n",
    "1. 启用传感器监听\n",
    "  - 开始监听指定传感器的数据。\n",
    "2. 获取传感器数据\n",
    "  - 通过回调函数或轮询方式获取实时数据。\n",
    "3. 禁用传感器监听\n",
    "  - 停止监听指定传感器的数据。"
   ],
   "id": "c16503dd096b06a0"
  },
  {
   "metadata": {},
   "cell_type": "markdown",
   "source": "## 常用传感器API",
   "id": "cff2db7394f3bf5a"
  },
  {
   "metadata": {},
   "cell_type": "markdown",
   "source": "### `startSensingTimed(sensorNumber, delayTime)` - 启动传感器监听，并指定数据采样的时间间隔",
   "id": "d8f4b6cce7a4fd56"
  },
  {
   "metadata": {},
   "cell_type": "markdown",
   "source": [
    "参数:\n",
    "- `sensorNumber`: 要采集的传感器类型，1 = 所有传感器, 2 = 加速度计, 3 = 磁力仪, 4 = 光感 5 = 计步器, 6 = 陀螺仪\n",
    "- `delayTime`：采样间隔，单位为毫秒（如 1000 表示每秒采样一次）。"
   ],
   "id": "eae490139874445b"
  },
  {
   "metadata": {},
   "cell_type": "markdown",
   "source": "### `readSensors()`- 获取最新的传感器数据",
   "id": "8c91cace85d23e3"
  },
  {
   "metadata": {},
   "cell_type": "markdown",
   "source": "### `stopSensing()`- 停止传感器监听",
   "id": "86d46b5f4192a791"
  },
  {
   "metadata": {},
   "cell_type": "markdown",
   "source": "",
   "id": "ac9ea60f6d9a624e"
  },
  {
   "metadata": {},
   "cell_type": "code",
   "outputs": [],
   "execution_count": null,
   "source": [
    "droid.startSensingTimed(4, 1000)  # 每秒采集一次数据\n",
    "# 读取传感器结果\n",
    "result = droid.readSensors().result\n",
    "# 关闭传感器\n",
    "droid.stopSensing()\n",
    "print(result)"
   ],
   "id": "9710b7c7ec69e023"
  },
  {
   "metadata": {},
   "cell_type": "markdown",
   "source": "## 电池信息",
   "id": "85839dddd7916c1c"
  },
  {
   "metadata": {},
   "cell_type": "markdown",
   "source": "### `batteryGetStatus()`- 获取电池状态",
   "id": "ff6484aececdf376"
  },
  {
   "metadata": {},
   "cell_type": "code",
   "outputs": [],
   "execution_count": null,
   "source": [
    "battery_status = droid.batteryGetStatus().result\n",
    "print(battery_status)"
   ],
   "id": "e5792e799c73f774"
  },
  {
   "metadata": {},
   "cell_type": "markdown",
   "source": "### `batteryGetLevel()`- 获取电池电量",
   "id": "2686069363ce80c2"
  },
  {
   "metadata": {},
   "cell_type": "code",
   "outputs": [],
   "execution_count": null,
   "source": [
    "battery_level = droid.batteryGetLevel().result\n",
    "print(battery_level)"
   ],
   "id": "d0f2504d0706b930"
  },
  {
   "metadata": {},
   "cell_type": "markdown",
   "source": "### `batteryGetHealth()`- 获取电池健康状态",
   "id": "bdd83f97592d58ec"
  },
  {
   "metadata": {},
   "cell_type": "code",
   "outputs": [],
   "execution_count": null,
   "source": [
    "battery_health = droid.batteryGetHealth().result\n",
    "print(battery_health)"
   ],
   "id": "2bf33c461fe10e3b"
  },
  {
   "metadata": {},
   "cell_type": "markdown",
   "source": "### `batteryGetTemperature()`- 获取电池温度",
   "id": "bc4f09dc7863942c"
  },
  {
   "metadata": {},
   "cell_type": "code",
   "outputs": [],
   "execution_count": null,
   "source": [
    "battery_temp = droid.batteryGetTemperature().result\n",
    "print(battery_temp)"
   ],
   "id": "ab8726adc110665b"
  },
  {
   "metadata": {},
   "cell_type": "markdown",
   "source": "### `batteryGetPlugType()`- 获取充电类型",
   "id": "88be6bbee0317c0d"
  },
  {
   "metadata": {},
   "cell_type": "code",
   "outputs": [],
   "execution_count": null,
   "source": [
    "charging_type = droid.batteryGetPlugType().result\n",
    "print(charging_type)"
   ],
   "id": "cf49463d123e47b4"
  },
  {
   "metadata": {},
   "cell_type": "markdown",
   "source": "## 位置服务",
   "id": "37ccc1bfccb82590"
  },
  {
   "metadata": {},
   "cell_type": "markdown",
   "source": [
    "### `startLocating(minUpdateTime, minUpdateDistance)`- 启动GPS定位\n",
    "参数：\n",
    "- `minUpdateTime`： 最小更新时间（毫秒）\n",
    "- `minUpdateDistance`： 最小更新举例（米）\n",
    "### `readLocation()`- 获取位置信息\n",
    "### `stopLocation()`- 停止定位\n",
    "### `getLastKnownLocation()`- 返回设备的最后已知位置"
   ],
   "id": "25acb47faa0392c7"
  },
  {
   "metadata": {},
   "cell_type": "code",
   "outputs": [],
   "execution_count": null,
   "source": [
    "# 启动位置服务\n",
    "droid.startLocating(1000, 5)\n",
    "# 获取位置信息\n",
    "location = droid.readLocation().result\n",
    "# 使用完后停止定位\n",
    "droid.stopLocating()\n",
    "print(location)"
   ],
   "id": "1325dba4e0403b6d"
  },
  {
   "metadata": {},
   "cell_type": "markdown",
   "source": "## 系统硬件信息",
   "id": "4a0ce9e78fb2fd4b"
  },
  {
   "metadata": {},
   "cell_type": "markdown",
   "source": "### `getDeviceId()`- 获取设备ID",
   "id": "501d23d47fb4195b"
  },
  {
   "metadata": {},
   "cell_type": "code",
   "outputs": [],
   "execution_count": null,
   "source": [
    "device_id = droid.getDeviceId().result\n",
    "print(device_id)"
   ],
   "id": "91a8e35106f2d5e"
  },
  {
   "metadata": {},
   "cell_type": "markdown",
   "source": "### `getSimState()` - 获取SIM卡信息",
   "id": "5247b2c35b898dd6"
  },
  {
   "metadata": {},
   "cell_type": "code",
   "outputs": [],
   "execution_count": null,
   "source": [
    "sim_info = droid.getSimState().result\n",
    "print(sim_info)"
   ],
   "id": "98e5642d12fdc040"
  },
  {
   "metadata": {},
   "cell_type": "markdown",
   "source": "### `getNetworkOperator()` - 返回当前注册运营商的数字名称 (MCC+MNC)",
   "id": "d6dc34bfb9b99195"
  },
  {
   "metadata": {},
   "cell_type": "code",
   "outputs": [],
   "execution_count": null,
   "source": [
    "net_operator = droid.getNetworkOperator().result\n",
    "print(net_operator)"
   ],
   "id": "c068c672f4430d9a"
  },
  {
   "metadata": {},
   "cell_type": "markdown",
   "source": "### `getNetworkOperatorName()` - 返回当前注册运营商的名称",
   "id": "be48718f5a4d3c4e"
  },
  {
   "metadata": {},
   "cell_type": "code",
   "outputs": [],
   "execution_count": null,
   "source": [
    "net_operator_name = droid.getNetworkOperatorName().result\n",
    "print(net_operator_name)"
   ],
   "id": "e6436289644091b7"
  },
  {
   "metadata": {},
   "cell_type": "markdown",
   "source": "# 4. 系统服务接口",
   "id": "648510c93bdea00a"
  },
  {
   "metadata": {},
   "cell_type": "markdown",
   "source": "## makeIntent - 创建 Intent 活动消息对象",
   "id": "55f2294a9bab4a7a"
  },
  {
   "metadata": {},
   "cell_type": "markdown",
   "source": [
    "在QSL4A中，makeIntent 方法用于创建一个 Android Intent 对象。Intent 是 Android 中用于描述要执行的操作（如启动一个活动或服务）的消息对象。\n",
    "### 主要用途：\n",
    "1. 启动活动（Activity）\n",
    "使用 Intent 启动指定的 Android 活动，例如打开特定的应用或系统设置。\n",
    "2. 传递数据\n",
    "在 Intent 中携带数据，通过键值对的方式传递给目标组件。\n",
    "3. 触发特定动作\n",
    "创建一个 Intent 并指定操作（如 ACTION_VIEW 或 ACTION_SEND），触发与操作相关的系统或应用行为。\n",
    "### 参数说明：\n",
    "- `action`：Intent 的动作类型，通常使用 Android 定义的标准动作，如 android.intent.action.VIEW。\n",
    "- `uri`：目标资源的 URI，指定资源路径或文件路径。\n",
    "- `type`：可选，默认为None。指定数据类型（如 image/png）。\n",
    "- `extras`：可选，默认为None。额外的数据，作为键值对传递。\n",
    "- `categories`: 可选，默认为None。类别列表\n",
    "- `packagename`: 可选，默认为None。包名\n",
    "- `classname`: 可选，默认为None。类名\n",
    "- `flags`: 可选，默认为None。Intent 标志"
   ],
   "id": "6b2336fb1f4aa3"
  },
  {
   "metadata": {},
   "cell_type": "code",
   "outputs": [],
   "execution_count": null,
   "source": [
    "# 创建基本Intent：\n",
    "intent = droid.makeIntent(\n",
    "    \"android.intent.action.VIEW\",\n",
    "    \"https://www.example.com\",\n",
    "    \"text/html\",\n",
    "    {\"extra_key\": \"value\"}\n",
    ")"
   ],
   "id": "3f099c634f1ea60"
  },
  {
   "metadata": {},
   "cell_type": "code",
   "outputs": [],
   "execution_count": null,
   "source": [
    "# 创建应用内跳转Intent:\n",
    "intent = droid.makeIntent(\n",
    "    \"android.intent.action.MAIN\",\n",
    "    None,\n",
    "    None,\n",
    "    None,\n",
    "    [\"android.intent.category.LAUNCHER\"],\n",
    "    \"com.example.app\",\n",
    "    \"com.example.app.MainActivity\"\n",
    ")"
   ],
   "id": "28a56faaddf9bde7"
  },
  {
   "metadata": {},
   "cell_type": "markdown",
   "source": "## `startActivityIntent()` - 启动Android活动",
   "id": "d3abd55bbad4d5"
  },
  {
   "metadata": {},
   "cell_type": "markdown",
   "source": "通过 makeIntent动态生成 Intent 后，就可以传递给 startActivityIntent()，以便启动活动完成指定操作。",
   "id": "56f0af7ce322b1a8"
  },
  {
   "metadata": {},
   "cell_type": "code",
   "outputs": [],
   "execution_count": null,
   "source": [
    "# 打开一个 URL\n",
    "action = \"android.intent.action.VIEW\"\n",
    "uri = \"https://www.baidu.com\"\n",
    "intent = droid.makeIntent(action, uri)\n",
    "droid.startActivityIntent(intent.result)"
   ],
   "id": "303c97f750f4a8d1"
  },
  {
   "metadata": {},
   "cell_type": "code",
   "outputs": [],
   "execution_count": null,
   "source": [
    "# 打开手机拨号应用并填充号码  \n",
    "action = \"android.intent.action.DIAL\"\n",
    "uri = \"tel:123456789\"\n",
    "intent = droid.makeIntent(action, uri)\n",
    "droid.startActivityIntent(intent.result)"
   ],
   "id": "49208315767d2767"
  },
  {
   "metadata": {},
   "cell_type": "code",
   "outputs": [],
   "execution_count": null,
   "source": [
    "# 向其他应用发送文本\n",
    "action = \"android.intent.action.SEND\"\n",
    "extras = {\"android.intent.extra.TEXT\": \"Hello from QPython!\"}\n",
    "intent = droid.makeIntent(action, None, None, extras)\n",
    "droid.startActivityIntent(intent.result)"
   ],
   "id": "d4cb16b1599266bf"
  },
  {
   "metadata": {},
   "cell_type": "markdown",
   "source": "## `sendBroadcastIntent()` - 发送广播消息",
   "id": "c8174a2cb6644d9f"
  },
  {
   "metadata": {},
   "cell_type": "code",
   "outputs": [],
   "execution_count": null,
   "source": [
    "# 创建可重用的广播Intent\n",
    "import time\n",
    "\n",
    "def create_notification_intent(message, priority):\n",
    "    return droid.makeIntent(\n",
    "        \"com.example.NOTIFICATION\",\n",
    "        None,\n",
    "        None,\n",
    "        {\n",
    "            \"message\": message,\n",
    "            \"priority\": priority,\n",
    "            \"timestamp\": time.time()\n",
    "        }\n",
    "    )\n",
    "\n",
    "# 使用\n",
    "notification = create_notification_intent(\"新消息\", \"high\")\n",
    "if notification.result:\n",
    "    droid.sendBroadcastIntent(notification.result)"
   ],
   "id": "ff0b8d2065305929"
  },
  {
   "metadata": {},
   "cell_type": "markdown",
   "source": "",
   "id": "a2e31796fd35a08b"
  },
  {
   "metadata": {},
   "cell_type": "code",
   "outputs": [],
   "execution_count": null,
   "source": [
    "# 批量广播发送\n",
    "def create_broadcast_intents(messages):\n",
    "    intents = []\n",
    "    for msg in messages:\n",
    "        intent = droid.makeIntent(\n",
    "            \"com.example.MESSAGE\",\n",
    "            None,\n",
    "            \"text/plain\",\n",
    "            {\"content\": msg}\n",
    "        )\n",
    "        if intent.result:\n",
    "            intents.append(intent.result)\n",
    "    return intents\n",
    "\n",
    "# 使用\n",
    "messages = [\"msg1\", \"msg2\", \"msg3\"]\n",
    "intents = create_broadcast_intents(messages)\n",
    "for intent in intents:\n",
    "    droid.sendBroadcastIntent(intent)"
   ],
   "id": "bcf108f232bbdbda"
  },
  {
   "metadata": {},
   "cell_type": "markdown",
   "source": "## Preferences - 偏好设置",
   "id": "434b41cebc723dc9"
  },
  {
   "metadata": {},
   "cell_type": "markdown",
   "source": "### `prefGetValue(key, filename)` - 从共享偏好设置中读取值",
   "id": "cf2460773bf77b35"
  },
  {
   "metadata": {},
   "cell_type": "markdown",
   "source": [
    "参数：\n",
    "- `key`: 首选项的键名称\n",
    "- `filename`: （可选）所需的首选项文件。如果未定义，则使用默认的共享首选项。"
   ],
   "id": "c6a38998840b1de7"
  },
  {
   "metadata": {},
   "cell_type": "code",
   "outputs": [],
   "execution_count": null,
   "source": [
    "pref_username = droid.prefGetValue(\"username\")\n",
    "print(pref_username)"
   ],
   "id": "25ac6cba711d6126"
  },
  {
   "metadata": {},
   "cell_type": "markdown",
   "source": "### `prefPutValue(key, value, filename)` - 将值写入共享首选项",
   "id": "37b65a1ed69183de"
  },
  {
   "metadata": {},
   "cell_type": "markdown",
   "source": [
    "参数：\n",
    "- `key`: 首选项的键名称\n",
    "- `value`: 要存储的值（可以是字符串、整数、布尔值等）\n",
    "- `filename`: （可选）所需的首选项文件。如果未定义，则使用默认的共享首选项。"
   ],
   "id": "35a1c5448a530c81"
  },
  {
   "metadata": {},
   "cell_type": "code",
   "outputs": [],
   "execution_count": null,
   "source": "droid.prefPutValue(\"username\", \"QPython\")",
   "id": "6ca17a86009dd1b9"
  },
  {
   "metadata": {},
   "cell_type": "markdown",
   "source": "### `prefGetAll(filename)` - 获取共享偏好值列表",
   "id": "63d7bbde229e05ca"
  },
  {
   "metadata": {},
   "cell_type": "markdown",
   "source": [
    "参数：\n",
    "- `filename`: （可选）所需的首选项文件。如果未定义，则使用默认的共享首选项。"
   ],
   "id": "b500849a8ee7d2f8"
  },
  {
   "metadata": {},
   "cell_type": "code",
   "outputs": [],
   "execution_count": null,
   "source": [
    "pref_all = droid.prefGetAll()\n",
    "print(pref_all)"
   ],
   "id": "eb8a5288ad8d8ae"
  },
  {
   "metadata": {},
   "cell_type": "markdown",
   "source": "## ApplicationManager - 应用管理",
   "id": "414cb137e64511c9"
  },
  {
   "metadata": {},
   "cell_type": "markdown",
   "source": "### `getLaunchablePackages()` - 返回所有可启动应用程序类名的列表",
   "id": "c8a89d19cdb5129a"
  },
  {
   "metadata": {},
   "cell_type": "code",
   "outputs": [],
   "execution_count": null,
   "source": [
    "apps = droid.getLaunchablePackages()\n",
    "print(apps)"
   ],
   "id": "2f47c0e83daf56b8"
  },
  {
   "metadata": {},
   "cell_type": "markdown",
   "source": "### `launch(classname, packagename, wait)` - 启动指定应用",
   "id": "953ea0c62eb0e9f0"
  },
  {
   "metadata": {},
   "cell_type": "markdown",
   "source": [
    "参数：\n",
    "- `classname`: 应用程序类名\n",
    "- `packagename`: 应用程序包名\n",
    "- `wait`: 是否等待应用启动完毕，默认是True"
   ],
   "id": "dc6292813d0e9901"
  },
  {
   "metadata": {},
   "cell_type": "code",
   "outputs": [],
   "execution_count": null,
   "source": "droid.launch(packagename='com.huawei.himovie')",
   "id": "7fd37f556dba7ec0"
  },
  {
   "metadata": {},
   "cell_type": "markdown",
   "source": "### `getRunningPackages()` - 获取正在运行的应用列表",
   "id": "3e9cb6872667fb02"
  },
  {
   "metadata": {},
   "cell_type": "code",
   "outputs": [],
   "execution_count": null,
   "source": [
    "apps = droid.getRunningPackages()\n",
    "print(apps)"
   ],
   "id": "ca7bfa927c457ef2"
  },
  {
   "metadata": {},
   "cell_type": "markdown",
   "source": "### `forceStopPackage(packageName)` - 强行停止运行应用",
   "id": "646e4fe444e80552"
  },
  {
   "metadata": {},
   "cell_type": "markdown",
   "source": [
    "参数：\n",
    "- `packageName`: 应用程序包名"
   ],
   "id": "41345c8c592809af"
  },
  {
   "metadata": {},
   "cell_type": "code",
   "outputs": [],
   "execution_count": null,
   "source": "droid.forceStopPackage(  packageName='com.huawei.himovie')",
   "id": "39132f236e146908"
  },
  {
   "metadata": {},
   "cell_type": "markdown",
   "source": "# 5. 通信功能",
   "id": "85f14d45f5e88e18"
  },
  {
   "metadata": {},
   "cell_type": "markdown",
   "source": "## SMS - 短信",
   "id": "65e5ce074d77b47"
  },
  {
   "metadata": {},
   "cell_type": "markdown",
   "source": "### `smsSend(destinationAddress, text)` - 发送短信",
   "id": "54898510d1d1c18b"
  },
  {
   "metadata": {},
   "cell_type": "markdown",
   "source": [
    "参数：\n",
    "- `destinationAddress`：目标电话号码\n",
    "- `text`：短信文本内容"
   ],
   "id": "5a3d8b3a633cc8e0"
  },
  {
   "metadata": {},
   "cell_type": "code",
   "outputs": [],
   "execution_count": null,
   "source": "droid.smsSend('19113949755', '你好')",
   "id": "3a4866c2720c5bf6"
  },
  {
   "metadata": {},
   "cell_type": "markdown",
   "source": "### `smsGetMessageCount(unreadOnly, folder)` - 获取短信数量",
   "id": "56180fff527aa598"
  },
  {
   "metadata": {},
   "cell_type": "markdown",
   "source": [
    "参数：\n",
    "- `unreadOnly`: bool型，是否筛选未读状态的短信\n",
    "- `folder`: 短信文件夹，默认为\"inbox\""
   ],
   "id": "b16dc9660d174535"
  },
  {
   "metadata": {},
   "cell_type": "code",
   "outputs": [],
   "execution_count": null,
   "source": "msg_count = droid.smsGetMessageCount(False)",
   "id": "736449248fbed579"
  },
  {
   "metadata": {},
   "cell_type": "markdown",
   "source": "### `smsGetMessageIds(unreadOnly, folder)` - 获取所有短信id",
   "id": "2ca575f7a0b40cd6"
  },
  {
   "metadata": {},
   "cell_type": "markdown",
   "source": [
    "参数：\n",
    "- `unreadOnly`: bool型，是否筛选未读状态的短信\n",
    "- `folder`: 短信文件夹，默认为\"inbox\""
   ],
   "id": "42a81f94b903a748"
  },
  {
   "metadata": {},
   "cell_type": "code",
   "outputs": [],
   "execution_count": null,
   "source": "msg_ids = droid.smsGetMessageIds(False)",
   "id": "c9602b7d3a4d6484"
  },
  {
   "metadata": {},
   "cell_type": "markdown",
   "source": "### `smsGetMessages(unreadOnly, folder, attributes)` - 获取所有短信",
   "id": "bda433c46440951b"
  },
  {
   "metadata": {},
   "cell_type": "markdown",
   "source": [
    "参数：\n",
    "- `unreadOnly`: bool型，是否筛选未读状态的短信\n",
    "- `folder`: 短信文件夹，默认为\"inbox\"\n",
    "- `attributes`: 参数列表，选填"
   ],
   "id": "21c600ace7d79626"
  },
  {
   "metadata": {},
   "cell_type": "code",
   "outputs": [],
   "execution_count": null,
   "source": "msg = droid.smsGetMessages(False)",
   "id": "61cfeefa7940b4b3"
  },
  {
   "metadata": {},
   "cell_type": "markdown",
   "source": "### `smsGetMessageById(id, attributes)` - 根据id获取短信参数",
   "id": "62c47d7ced2bd3fa"
  },
  {
   "metadata": {},
   "cell_type": "markdown",
   "source": [
    "参数：\n",
    "- `id`: 短信id\n",
    "- `attributes`: 参数列表，选填"
   ],
   "id": "a2dcd2a9ee4b9615"
  },
  {
   "metadata": {},
   "cell_type": "code",
   "outputs": [],
   "execution_count": null,
   "source": "msg_ids = droid.smsGetMessageById(1)",
   "id": "e4b37c82e8eb4288"
  },
  {
   "metadata": {},
   "cell_type": "markdown",
   "source": "### `smsGetAttributes()` - 获取所有可能的短信参数",
   "id": "b6aa5dd83a71c841"
  },
  {
   "metadata": {},
   "cell_type": "code",
   "outputs": [],
   "execution_count": null,
   "source": "attrs = droid.smsGetAttributes()",
   "id": "3f70ca5757f4d959"
  },
  {
   "metadata": {},
   "cell_type": "markdown",
   "source": "### `smsDeleteMessage(id)` - 根据id删除短信",
   "id": "d12b0f0d293ec71a"
  },
  {
   "metadata": {},
   "cell_type": "code",
   "outputs": [],
   "execution_count": null,
   "source": "droid.smsDeleteMessage(1)",
   "id": "1a1c26ba6568119f"
  },
  {
   "metadata": {},
   "cell_type": "markdown",
   "source": "### `smsMarkMessageRead(ids, read)` - 将短信标为已读/未读",
   "id": "3eeb49c026f5ae16"
  },
  {
   "metadata": {},
   "cell_type": "markdown",
   "source": [
    "参数：\n",
    "- `id`: 短信id\n",
    "- `read`: bool型，True-已读，False-未读"
   ],
   "id": "6297550f8b19039a"
  },
  {
   "metadata": {},
   "cell_type": "code",
   "outputs": [],
   "execution_count": null,
   "source": "droid.smsMarkMessageRead([2, 3], True)",
   "id": "89caae1b8858888c"
  },
  {
   "metadata": {},
   "cell_type": "markdown",
   "source": "## Phone - 拨打电话",
   "id": "9e84659672811cc5"
  },
  {
   "metadata": {},
   "cell_type": "markdown",
   "source": [
    "### `phoneCall(uri)` -  通过URI呼叫联系人/电话号码\n",
    "某些 Android 系统会在拨打电话之前弹出确认界面，以防止未经用户同意拨打电话。\n",
    "参数：\n",
    "- `uri`（字符串）：电话号码或包含 tel: 前缀的 URI。  例如：\n",
    "  - 1234567890（本地号码）\n",
    "  - tel:1234567890（URI 格式，推荐）\n",
    "  - tel:+861234567890（国际号码）"
   ],
   "id": "1b3a338cd66a9167"
  },
  {
   "metadata": {},
   "cell_type": "code",
   "outputs": [],
   "execution_count": null,
   "source": "droid.phoneCall(uri)",
   "id": "3b78a022cadcb95e"
  },
  {
   "metadata": {},
   "cell_type": "markdown",
   "source": [
    "### `phoneCallNumber(number)` - 发起电话呼叫\n",
    "会跳过拨号界面，直接拨打指定号码，而无需用户进一步确认。\n",
    "参数：\n",
    "- `number`（字符串）：要拨打的电话号码。需要包含国家代码（如果是国际号码）或者本地号码。"
   ],
   "id": "47c032ff24b34164"
  },
  {
   "metadata": {},
   "cell_type": "code",
   "outputs": [],
   "execution_count": null,
   "source": "droid.phoneCallNumber('12345657890')",
   "id": "6894af8e0df4c8d2"
  },
  {
   "metadata": {},
   "cell_type": "markdown",
   "source": [
    "### `phoneDial(uri)` - 打开拨号界面，并输入指定URI\n",
    "用于打开拨号界面并填入指定号码的方法，但不会自动拨出电话。这提供了一种较为安全的方式，让用户自行决定是否拨打电话。\n",
    "\n",
    "适用场景：\n",
    "- 在需要提示用户拨打电话的情况下使用，而不是直接自动拨号。\n",
    "- 应用程序希望更安全地提供拨号功能，避免未经用户确认直接拨号。"
   ],
   "id": "b33e3c23178c2c3"
  },
  {
   "metadata": {},
   "cell_type": "code",
   "outputs": [],
   "execution_count": null,
   "source": [
    "# 设置要拨打的号码\n",
    "phone_number = \"tel:1234567890\"\n",
    "\n",
    "# 打开拨号界面\n",
    "droid.phoneDial(phone_number)"
   ],
   "id": "ae431538f1628a18"
  },
  {
   "metadata": {},
   "cell_type": "markdown",
   "source": [
    "### `phoneDialNumber(number)` - 打开拨号界面并填入指定的电话号码\n",
    "一种更简洁的方法，适合快速实现拨号界面预填功能，同时确保用户有机会确认操作，从而提升用户体验和安全性。\n",
    "  \n",
    "参数：\n",
    "- `number`（字符串）：需要填入拨号界面的电话号码。可以是本地号码或国际号码（带国家代码）。"
   ],
   "id": "9d76ebcc07c1079e"
  },
  {
   "metadata": {},
   "cell_type": "code",
   "outputs": [],
   "execution_count": null,
   "source": [
    "# 要拨打的电话号码\n",
    "phone_number = \"1234567890\"\n",
    "\n",
    "# 打开拨号界面并填入电话号码\n",
    "droid.phoneDialNumber(phone_number)"
   ],
   "id": "5b8fde4ffbfe29cd"
  },
  {
   "metadata": {},
   "cell_type": "markdown",
   "source": "## WiFi",
   "id": "fd71b31a7096d2e2"
  },
  {
   "metadata": {},
   "cell_type": "markdown",
   "source": "### `wifiGetScanResults()` - 获取wifi扫描结果",
   "id": "f722950743cfb7ab"
  },
  {
   "metadata": {},
   "cell_type": "markdown",
   "source": [
    "- 参数：无。\n",
    "- 返回值：包含扫描结果的列表，每个网络是一个字典，包含以下信息：\n",
    "  - BSSID：接入点的 MAC 地址。\n",
    "  - SSID：网络名称。\n",
    "  - capabilities：加密方式。\n",
    "  - frequency：频率。\n",
    "  - level：信号强度（dBm）。"
   ],
   "id": "47abd99807eae891"
  },
  {
   "metadata": {},
   "cell_type": "code",
   "outputs": [],
   "execution_count": null,
   "source": [
    "res= droid.wifiGetScanResults().result\n",
    "print(res)"
   ],
   "id": "456d72cbc783d09e"
  },
  {
   "metadata": {},
   "cell_type": "markdown",
   "source": "### `wifiStartScan()` - 启动wifi网络扫描",
   "id": "cbc41e762ef8b0ee"
  },
  {
   "metadata": {},
   "cell_type": "code",
   "outputs": [],
   "execution_count": null,
   "source": "droid.wifiStartScan()",
   "id": "7cbfd27b06d5ed29"
  },
  {
   "metadata": {},
   "cell_type": "markdown",
   "source": "### `checkWifiState()` - 检查Wifi状态",
   "id": "8e462bbd0418924e"
  },
  {
   "metadata": {},
   "cell_type": "code",
   "outputs": [],
   "execution_count": null,
   "source": [
    "status = droid.checkWifiState().result\n",
    "print(status)"
   ],
   "id": "1642c85fca359237"
  },
  {
   "metadata": {},
   "cell_type": "markdown",
   "source": "### `toggleWifiState(enabled)` - 返回有关当前活动接入点的信息",
   "id": "9992cff5698ae079"
  },
  {
   "metadata": {},
   "cell_type": "code",
   "outputs": [],
   "execution_count": null,
   "source": [
    "res= droid.toggleWifiState(True).result\n",
    "print(res)"
   ],
   "id": "1a1a89027fb22f98"
  },
  {
   "metadata": {},
   "cell_type": "markdown",
   "source": "### `wifiDisconnect()` - 断开当前的 WiFi 连接",
   "id": "548ab81adabcd30f"
  },
  {
   "metadata": {},
   "cell_type": "code",
   "outputs": [],
   "execution_count": null,
   "source": "droid.wifiDisconnect()",
   "id": "80e8c264dc017103"
  },
  {
   "metadata": {},
   "cell_type": "markdown",
   "source": "### `wifiGetConnectionInfo()` - 获取当前的 WiFi 连接信息",
   "id": "5c02def776581386"
  },
  {
   "metadata": {},
   "cell_type": "markdown",
   "source": [
    "- 参数：无。\n",
    "- 返回值：包含当前连接信息的字典，常见字段包括：\n",
    "  - `ssid`：当前连接的网络名称。\n",
    "  - `bssid`：接入点的 MAC 地址。\n",
    "  - `ip_address`：设备的 IP 地址。\n",
    "  - `link_speed`：连接速度（Mbps）。"
   ],
   "id": "90694918608a5bbd"
  },
  {
   "metadata": {},
   "cell_type": "code",
   "outputs": [],
   "execution_count": null,
   "source": [
    "# 获取当前 WiFi 连接信息\n",
    "info = droid.wifiGetConnectionInfo().result\n",
    "print(info)"
   ],
   "id": "7e86e2cd22ec4cd5"
  },
  {
   "metadata": {},
   "cell_type": "markdown",
   "source": "### `wifiReassociate()` - 返回有关当前活动接入点的信息",
   "id": "f47b6d69e18adc93"
  },
  {
   "metadata": {},
   "cell_type": "code",
   "outputs": [],
   "execution_count": null,
   "source": [
    "res= droid.wifiReassociate().result\n",
    "print(res)"
   ],
   "id": "8f0700bc059dca9d"
  },
  {
   "metadata": {},
   "cell_type": "markdown",
   "source": "### `wifiReconnect()` - 重新连接到当前已配置的 WiFi 网络",
   "id": "484f763d466c4e60"
  },
  {
   "metadata": {},
   "cell_type": "code",
   "outputs": [],
   "execution_count": null,
   "source": "droid.wifiReconnect()",
   "id": "2ef6ff72f7c61d70"
  },
  {
   "metadata": {},
   "cell_type": "markdown",
   "source": "# 6. 多媒体处理",
   "id": "60a2c9b8c4197cd5"
  },
  {
   "metadata": {},
   "cell_type": "markdown",
   "source": "## Camera - 照相机操作",
   "id": "3f81a57538de329e"
  },
  {
   "metadata": {},
   "cell_type": "markdown",
   "source": [
    "### `cameraCapturePicture(targetPath)` - 拍照并保存\n",
    "参数：\n",
    "- targetPath: 照片保存路径，选填。\n",
    "\n",
    "返回值：\n",
    "- 如果成功，返回照片文件的路径。\n",
    "- 如果失败，返回 None。"
   ],
   "id": "3f04b20288464257"
  },
  {
   "metadata": {},
   "cell_type": "code",
   "outputs": [],
   "execution_count": null,
   "source": [
    "res = droid.cameraCapturePicture()\n",
    "print(res)"
   ],
   "id": "e07f4bfa7537947"
  },
  {
   "metadata": {},
   "cell_type": "markdown",
   "source": [
    "### `cameraInteractiveCapturePicture(targetPath)` - 启动交互式相机界面\n",
    "参数：\n",
    "- `targetPath`：字符串，照片保存的完整路径。\n",
    "\n",
    "- 返回值：\n",
    "- 如果成功，返回照片文件的路径。\n",
    "- 如果失败，返回 None。"
   ],
   "id": "22204ef72d2a6890"
  },
  {
   "metadata": {},
   "cell_type": "code",
   "outputs": [],
   "execution_count": null,
   "source": [
    "# 设置保存路径\n",
    "photo_path = \"/sdcard/interactive_photo.jpg\"\n",
    "\n",
    "# 调用交互式相机拍照\n",
    "result = droid.cameraInteractiveCapturePicture(photo_path)\n",
    "\n",
    "if result.result:\n",
    "    print(f\"照片已保存至：{photo_path}\")\n",
    "else:\n",
    "    print(\"拍照失败\")"
   ],
   "id": "e83ac8d7f010c235"
  },
  {
   "metadata": {},
   "cell_type": "markdown",
   "source": "## MediaPlay - 音频播放",
   "id": "89b83eb44d9f5b73"
  },
  {
   "metadata": {},
   "cell_type": "markdown",
   "source": [
    "### `mediaPlay(url)` - 播放音频文件\n",
    "参数：\n",
    "- url：字符串，音频文件的路径（支持本地文件或 URL）。\n",
    "\n",
    "返回值：无显式返回值。\n",
    "\n",
    "支持格式：常见音频格式，如 MP3、WAV。"
   ],
   "id": "a1a5f063cac82add"
  },
  {
   "metadata": {},
   "cell_type": "code",
   "outputs": [],
   "execution_count": null,
   "source": [
    "# 播放音频文件\n",
    "audio_path = \"/sdcard/sample.mp3\"\n",
    "droid.mediaPlay(audio_path)"
   ],
   "id": "d7bbefda363b3341"
  },
  {
   "metadata": {},
   "cell_type": "markdown",
   "source": "### `mediaPlayClose()` - 停止播放当前的音频文件",
   "id": "f60c56337852391c"
  },
  {
   "metadata": {},
   "cell_type": "code",
   "outputs": [],
   "execution_count": null,
   "source": "droid.mediaPlayClose()",
   "id": "7a9dadb823729c10"
  },
  {
   "metadata": {},
   "cell_type": "markdown",
   "source": "### `mediaPlayPause()` - 暂停当前播放的音频文件",
   "id": "3c1b5382ac61ef5b"
  },
  {
   "metadata": {},
   "cell_type": "code",
   "outputs": [],
   "execution_count": null,
   "source": "droid.mediaPlayPause()",
   "id": "4887be2be6a8f829"
  },
  {
   "metadata": {},
   "cell_type": "markdown",
   "source": [
    "### `mediaPlaySeek(msec)` - 调整播放进度到指定位置\n",
    "参数：\n",
    "- `msec`：整数，音频的播放位置（以毫秒为单位）"
   ],
   "id": "840b717f42ed902a"
  },
  {
   "metadata": {},
   "cell_type": "code",
   "outputs": [],
   "execution_count": null,
   "source": [
    "# 设置播放位置为 10 秒（10000 毫秒）\n",
    "droid.mediaPlaySeek(10000)"
   ],
   "id": "e5ee052831c0c9ca"
  },
  {
   "metadata": {},
   "cell_type": "markdown",
   "source": "## Ringer & Media Volume - 铃声 & 媒体音量",
   "id": "fa5652425201b6cd"
  },
  {
   "metadata": {},
   "cell_type": "markdown",
   "source": [
    "Ringer Volume 和 Media Volume 是两个不同的音量设置，它们控制设备的两种主要音量：\n",
    "- Ringer Volume（铃声音量）：控制设备的铃声、通知音量。\n",
    "- Media Volume（媒体音量）：控制设备播放音频或视频时的音量，如音乐播放器、视频播放器、游戏等。"
   ],
   "id": "2d880f02418c52b0"
  },
  {
   "metadata": {},
   "cell_type": "markdown",
   "source": [
    "### `getMaxRingerVolume()` - 获取铃声音量最大值\n",
    "- 参数：无。\n",
    "- 返回值：整数，表示当前铃声音量级别"
   ],
   "id": "19f2a2512a1771b4"
  },
  {
   "metadata": {},
   "cell_type": "code",
   "outputs": [],
   "execution_count": null,
   "source": [
    "res = droid.getMaxRingerVolume().result\n",
    "print(res)"
   ],
   "id": "f3e267d153e674f7"
  },
  {
   "metadata": {},
   "cell_type": "markdown",
   "source": [
    "### `getRingerVolume()` - 获取当前的铃声音量\n",
    "- 参数：无。\n",
    "- 返回值：整数，表示当前铃声音量级别"
   ],
   "id": "b51d58969d6d36ce"
  },
  {
   "metadata": {},
   "cell_type": "code",
   "outputs": [],
   "execution_count": null,
   "source": [
    "res = droid.getRingerVolume().result\n",
    "print(res)"
   ],
   "id": "bcfd6d9f779d2592"
  },
  {
   "metadata": {},
   "cell_type": "markdown",
   "source": [
    "### `setRingerVolume(volume)` - 设置铃声音量  \n",
    "参数：\n",
    "- `volume`：整数，目标铃声音量级别"
   ],
   "id": "65e90909bfb5e1f2"
  },
  {
   "metadata": {},
   "cell_type": "code",
   "outputs": [],
   "execution_count": null,
   "source": "droid.setRingerVolume(2)",
   "id": "a2b951e0ed912f46"
  },
  {
   "metadata": {},
   "cell_type": "markdown",
   "source": [
    "### `getMaxMediaVolume()` - 获取最大媒体音量\n",
    "- 参数：无。\n",
    "- 返回值：整数，表示当前媒体音量级别（通常是 0 到 15 之间的整数，具体范围取决于设备）。"
   ],
   "id": "7acc4f308968b8b5"
  },
  {
   "metadata": {},
   "cell_type": "code",
   "outputs": [],
   "execution_count": null,
   "source": "res = droid.getMaxMediaVolume().result",
   "id": "9b28ffd0a97f9950"
  },
  {
   "metadata": {},
   "cell_type": "markdown",
   "source": [
    "### `getMediaVolume()` - 获取当前媒体音量\n",
    "- 参数：无。\n",
    "- 返回值：整数，表示当前媒体音量级别（通常是 0 到 15 之间的整数，具体范围取决于设备）。"
   ],
   "id": "78b70835a0081963"
  },
  {
   "metadata": {},
   "cell_type": "code",
   "outputs": [],
   "execution_count": null,
   "source": [
    "res = droid.getMediaVolume().result\n",
    "print(res)"
   ],
   "id": "64e8c4769391d377"
  },
  {
   "metadata": {},
   "cell_type": "markdown",
   "source": [
    "### `setMediaVolume(volume)` - 设置媒体音量\n",
    "- 参数：\n",
    "  - `volume`：整数，目标媒体音量级别（通常是 0 到 15 之间的整数，具体范围取决于设备）。\n",
    "- 返回值：无显式返回值。"
   ],
   "id": "c246a84f05fbe082"
  },
  {
   "metadata": {},
   "cell_type": "code",
   "outputs": [],
   "execution_count": null,
   "source": "droid.setMediaVolume(2)",
   "id": "6ea42f8ce6377a59"
  },
  {
   "metadata": {},
   "cell_type": "markdown",
   "source": "### `toggleRingerSilentMode()` - 切换静音模式",
   "id": "cf7c38cd6a5712f7"
  },
  {
   "metadata": {},
   "cell_type": "code",
   "outputs": [],
   "execution_count": null,
   "source": "droid.toggleRingerSilentMode()",
   "id": "2d660bd39abdd2a8"
  },
  {
   "metadata": {},
   "cell_type": "markdown",
   "source": "## Speech - 语音",
   "id": "5c3f790a17f8201d"
  },
  {
   "metadata": {},
   "cell_type": "markdown",
   "source": [
    "### `ttsSpeak(message)` - 文本转语音\n",
    "- 参数：\n",
    "  - `message`：字符串，要转换为语音的文本。\n",
    "- 返回值：无显式返回值。"
   ],
   "id": "aea0f81dededda41"
  },
  {
   "metadata": {},
   "cell_type": "code",
   "outputs": [],
   "execution_count": null,
   "source": "droid.ttsSpeak(\"Hello, this is a text-to-speech example.\")",
   "id": "9cccb731853194c5"
  },
  {
   "metadata": {},
   "cell_type": "markdown",
   "source": "### `ttsIsSpeaking()` - 检测是否正在处理语音",
   "id": "b48a13c09eccb0a0"
  },
  {
   "metadata": {},
   "cell_type": "code",
   "outputs": [],
   "execution_count": null,
   "source": [
    "res = droid.ttsIsSpeaking().result\n",
    "print(res)"
   ],
   "id": "b7411364be861ef2"
  },
  {
   "metadata": {},
   "cell_type": "markdown",
   "source": [
    "### `speechToText(RecordSecond=10, AmrFile=None, Language=None)` - 语音转文本\n",
    "- 参数：\n",
    "  - `RecordSecond`: 录音时长\n",
    "  - `AmrFile`: 临时存储的amr文件\n",
    "  - `Language`: 选择的语言，为空时使用系统默认语言\n",
    "当 `RecordSecond=None` 时，使用 `AmrFile` 的值。"
   ],
   "id": "85c32f9cf03f6983"
  },
  {
   "metadata": {},
   "cell_type": "code",
   "outputs": [],
   "execution_count": null,
   "source": [
    "res = droid.speechToText()\n",
    "print(res)"
   ],
   "id": "8e3c744abe68b44a"
  },
  {
   "metadata": {},
   "cell_type": "markdown",
   "source": [
    "### `recorderStartMicrophone(targetPath)` - 开始录音\n",
    "- 参数\n",
    "  - `targetPath`: 录音文件保存地址，选填，为None时使用默认地址\n",
    "### `recorderStop()` - 结束录音"
   ],
   "id": "1c2b0bd122782cc9"
  },
  {
   "metadata": {},
   "cell_type": "code",
   "outputs": [],
   "execution_count": null,
   "source": [
    "import time\n",
    "\n",
    "droid.ttsSpeak(\"Start recording\")\n",
    "# 开始录音\n",
    "result = droid.recorderStartMicrophone()\n",
    "# 等待录音5秒\n",
    "time.sleep(5)\n",
    "droid.ttsSpeak(\"End of recording\")\n",
    "# 结束录音\n",
    "droid.recorderStop()\n",
    "# 获取录音结果\n",
    "recording_result = result.result"
   ],
   "id": "5aa2925e840921ea"
  },
  {
   "metadata": {},
   "cell_type": "markdown",
   "source": "# 7. FullScreenWrapper2 基础",
   "id": "2c6dea011f629442"
  },
  {
   "metadata": {},
   "cell_type": "markdown",
   "source": [
    "FullScreenWrapper2 是用于 Android 开发的一个控件封装工具，通常用来帮助开发者以全屏模式显示界面元素。在 Android 开发中，基于 QSL4A，FullScreenWrapper2 可以被用来创建全屏显示的界面，适用于需要全屏显示的应用场景。 \n",
    " \n",
    "在 FullScreenWrapper2 中，你可以通过结合 XML 布局文件和 Python 代码来实现更复杂的界面设计。FullScreenWrapper2 本身是用于将控件显示在全屏模式下，但你可以通过 XML 定义布局并在 Python 中加载和管理这些布局。"
   ],
   "id": "2b392b63011e8015"
  },
  {
   "metadata": {},
   "cell_type": "markdown",
   "source": "## 导入模块",
   "id": "b028fe2acadf8944"
  },
  {
   "metadata": {},
   "cell_type": "code",
   "outputs": [],
   "execution_count": null,
   "source": [
    "import androidhelper\n",
    "from qsl4ahelper.fullscreenwrapper2 import *"
   ],
   "id": "3d80ccfce996eea6"
  },
  {
   "metadata": {},
   "cell_type": "markdown",
   "source": "",
   "id": "c0cb144e51155603"
  },
  {
   "metadata": {},
   "cell_type": "markdown",
   "source": "## 定义 XML 布局",
   "id": "bb90b9acd7ab8b98"
  },
  {
   "metadata": {},
   "cell_type": "code",
   "outputs": [],
   "execution_count": null,
   "source": [
    "content = \"\"\"<?xml version=\"1.0\" encoding=\"utf-8\"?>\n",
    "<LinearLayout\n",
    "\tandroid:layout_width=\"fill_parent\"\n",
    "\tandroid:layout_height=\"fill_parent\"\n",
    "\tandroid:background=\"#7f3faf\"\n",
    "\tandroid:orientation=\"vertical\"\n",
    "\txmlns:android=\"http://schemas.android.com/apk/res/android\">\n",
    "\t<ScrollView   \n",
    "        android:layout_width=\"fill_parent\"   \n",
    "        android:layout_height=\"50dp\"\n",
    "        android:layout_weight=\"1\" > \n",
    "    <TextView\n",
    "\tandroid:id=\"@+id/Title\"\n",
    "\tandroid:layout_width=\"fill_parent\"\n",
    "\tandroid:layout_height=\"wrap_content\"\n",
    "\tandroid:textSize=\"7dp\"\n",
    "\tandroid:text=\"Hello QPython\"\n",
    "\tandroid:background=\"#af7f3f\"\n",
    "\tandroid:textColor=\"#ffffff\"\n",
    "\tandroid:textStyle=\"bold\"\n",
    "\tandroid:gravity=\"center\"\n",
    "\t/>\n",
    "    </ScrollView>\n",
    "    <ListView\n",
    "        android:id=\"@+id/listview\"\n",
    "        android:layout_width=\"match_parent\"\n",
    "        android:layout_height=\"wrap_content\"\n",
    "        android:layout_weight=\"20\"\n",
    "        android:background=\"#7f3faf\"\n",
    "    />\n",
    "    <Button\n",
    "\tandroid:layout_width=\"fill_parent\"\n",
    "\tandroid:layout_height=\"50dp\"\n",
    "\tandroid:text=\"Exit\"\n",
    "\tandroid:id=\"@+id/but_cancle\"\n",
    "\tandroid:textAllCaps=\"false\"\n",
    "\tandroid:textSize=\"5dp\"\n",
    "\tandroid:background=\"#3faf7f\"\n",
    "\tandroid:textColor=\"#ffffff\"\n",
    "\tandroid:layout_weight=\"1\"\n",
    "\tandroid:gravity=\"center\"/>\n",
    "</LinearLayout>\n",
    "\"\"\""
   ],
   "id": "86dfd56df738a54"
  },
  {
   "metadata": {},
   "cell_type": "markdown",
   "source": [
    "在这个 XML 布局中，我们定义了一个包含 LinearLayout、ScrollView、TextView、ListView 和 Button 的界面。 \n",
    "- LinearLayout：根布局，垂直方向排列子元素。\n",
    "- ScrollView：包含 TextView，用于显示可滚动的文本。\n",
    "- TextView：显示欢迎消息 \"Hello QPython\"。\n",
    "- ListView：列表视图，用于显示项目。\n",
    "- Button：一个退出按钮，点击后将触发事件。"
   ],
   "id": "9ff376cacd75dd63"
  },
  {
   "metadata": {},
   "cell_type": "markdown",
   "source": "## 定义 Layout",
   "id": "21a1ee22f15a7aff"
  },
  {
   "metadata": {},
   "cell_type": "markdown",
   "source": "`Layout` 是一个基础类，用于创建和管理应用界面的布局。它是 FullScreenWrapper2 框架的一部分，用于将 UI 组件（如按钮、文本框、列表视图等）放置到屏幕上，并控制它们的显示和交互。",
   "id": "7bea402b61b075c4"
  },
  {
   "metadata": {},
   "cell_type": "code",
   "outputs": [],
   "execution_count": null,
   "source": [
    "class MainScreen(Layout):\n",
    "    def __init__(self):\n",
    "        super(MainScreen, self).__init__(content, \"IndexApp\")\n",
    "\n",
    "    def on_show(self):\n",
    "        self.views.but_cancle.add_event(click_EventHandler(self.views.but_cancle, self.exit))\n",
    "\n",
    "    def on_close(self):\n",
    "        pass\n",
    "\n",
    "    def exit(self, view, dummy):\n",
    "        droid = FullScreenWrapper2App.get_android_instance()\n",
    "        droid.makeToast(\"Exit\")\n",
    "        FullScreenWrapper2App.close_layout()"
   ],
   "id": "ba320dd7792c1fd6"
  },
  {
   "metadata": {},
   "cell_type": "markdown",
   "source": [
    "`MainScreen` 类继承自 `Layout`，表示应用的主界面。\n",
    "- `__init__` 方法：通过 `super()` 初始化 `Layout` 类，并传入布局文件 `content` 和应用名称 \"IndexApp\"。\n",
    "- `on_show` 方法：当界面显示时，会给 `but_cancle` 按钮添加点击事件，点击时会调用 `exit` 方法。\n",
    "- `on_close` 方法：该方法目前为空，表示在关闭界面时没有特定操作。\n",
    "- `exit` 方法：点击 \"Exit\" 按钮时，调用此方法。它会触发以下操作：\n",
    "- 使用 `FullScreenWrapper2App.get_android_instance()` 获取 Android 实例。\n",
    "- 使用 `droid.makeToast(\"Exit\")` 显示一个短暂的提示消息 \"Exit\"。\n",
    "- 使用 `FullScreenWrapper2App.close_layout()` 关闭当前布局界面。"
   ],
   "id": "b2f460a72a658aeb"
  },
  {
   "metadata": {},
   "cell_type": "markdown",
   "source": "## 主程序",
   "id": "4bc316b5fb87a146"
  },
  {
   "metadata": {},
   "cell_type": "code",
   "outputs": [],
   "execution_count": null,
   "source": [
    "if __name__ == '__main__':\n",
    "    # 创建一个 Android 实例，用于与 Android 系统交互\n",
    "    droid = androidhelper.Android()\n",
    "    # 初始化 FullScreenWrapper2App，并传入 Android 实例。\n",
    "    FullScreenWrapper2App.initialize(droid)\n",
    "    # 显示 MainScreen 布局。\n",
    "    FullScreenWrapper2App.show_layout(MainScreen())\n",
    "    # 启动事件循环，等待用户交互。\n",
    "    FullScreenWrapper2App.eventloop()"
   ],
   "id": "217347409df5e914"
  },
  {
   "metadata": {},
   "cell_type": "markdown",
   "source": "# 8. FullScreenWrapper2 布局",
   "id": "694be9617e3b1ab"
  },
  {
   "metadata": {},
   "cell_type": "markdown",
   "source": "## Layout的作用",
   "id": "32eb2e450e99bdf8"
  },
  {
   "metadata": {},
   "cell_type": "markdown",
   "source": [
    "### 1. 定义界面结构\n",
    "Layout 类负责通过传入的 XML 布局定义界面结构。例如，XML 字符串定义了一个包含 LinearLayout、ScrollView、TextView、ListView 和 Button 的布局结构。Layout 类将这些 UI 组件根据 XML 的配置进行实例化，并将它们放置到屏幕上。  \n",
    "### 2. 管理UI控件\n",
    "Layout 会管理所有的 UI 组件（如 Button、TextView 等），并提供访问它们的方式。例如，在 `MainScreen` 类中的 `on_show` 方法里，通过 `self.views.but_cancle` 访问了 Button 组件，并为它绑定了点击事件。  \n",
    "### 3. 事件处理\n",
    "Layout 类还提供了事件处理机制，可以将用户的交互（如点击按钮、滑动列表等）与对应的处理函数绑定起来。在 `MainScreen` 类中，s`elf.views.but_cancle.add_event(click_EventHandler(self.views.but_cancle, self.exit))` 就是为 \"Exit\" 按钮添加了点击事件处理程序，点击按钮时会执行 exit 方法。  \n",
    "### 4. 界面显示与关闭\n",
    "Layout 还负责界面的显示与关闭。在 `FullScreenWrapper2App.show_layout(MainScreen())` 调用中，Layout 将会加载并显示 `MainScreen` 布局。\n",
    "在 `exit` 方法中，调用了 `FullScreenWrapper2App.close_layout()` 来关闭当前的界面布局。"
   ],
   "id": "991327807685690a"
  },
  {
   "metadata": {},
   "cell_type": "markdown",
   "source": "## Layout的基本用法",
   "id": "76a529f6de620450"
  },
  {
   "metadata": {},
   "cell_type": "markdown",
   "source": [
    "### 1. 构造函数 __init__\n",
    "Layout 类的构造函数允许你定义应用界面的布局和其他属性。你可以传递一个 XML 字符串来设置布局，也可以传递其他参数。\n",
    "```python\n",
    "class MainScreen(Layout):\n",
    "    def __init__(self):\n",
    "        # 通过传入 XML 布局定义来初始化 Layout\n",
    "        super(MainScreen, self).__init__(content, \"IndexApp\")\n",
    "```\n",
    "- `content`：传入一个 XML 格式的布局字符串，定义界面的结构。\n",
    "- \"IndexApp\"：这是应用的名称，用于界面的标题或其他标识。\n",
    "### 2. XML 布局\n",
    "Layout 使用 XML 字符串来定义界面布局。这些 XML 字符串定义了界面的结构，例如：\n",
    "- LinearLayout：根布局，用来管理其他 UI 元素的排列。\n",
    "- TextView：显示文本。\n",
    "- Button：按钮元素。\n",
    "```xml\n",
    "<LinearLayout\n",
    "  android:layout_width=\"fill_parent\"\n",
    "  android:layout_height=\"fill_parent\"\n",
    "  android:background=\"#7f3faf\"\n",
    "  android:orientation=\"vertical\"\n",
    "  xmlns:android=\"http://schemas.android.com/apk/res/android\">\n",
    "  <Button\n",
    "    android:id=\"@+id/but_cancle\"\n",
    "    android:layout_width=\"fill_parent\"\n",
    "    android:layout_height=\"50dp\"\n",
    "    android:text=\"Exit\"\n",
    "    android:background=\"#3faf7f\"\n",
    "    android:textColor=\"#ffffff\"\n",
    "    android:gravity=\"center\"/>\n",
    "</LinearLayout>\n",
    "```\n",
    "### 3. 访问视图组件\n",
    "Layout 类会根据提供的 XML 布局初始化所有视图组件。在界面加载之后，你可以通过 self.views 属性来访问这些组件。例如：\n",
    "```python\n",
    "self.views.but_cancle\n",
    "```\n",
    "这段代码会访问布局中 ID 为 `but_cancle` 的按钮视图，允许你对它进行操作，比如添加事件监听。  \n",
    "### 4. 事件处理\n",
    "Layout 类允许你为视图组件添加事件处理程序，例如点击事件、长按事件等。通过 add_event 方法，你可以将视图组件与特定的事件处理函数绑定起来。\n",
    "```python\n",
    "def on_show(self):\n",
    "    # 为按钮添加点击事件处理程序\n",
    "    self.views.but_cancle.add_event(click_EventHandler(self.views.but_cancle, self.exit))\n",
    "\n",
    "def exit(self, view, dummy):\n",
    "    # 按钮点击时执行的操作\n",
    "    droid = FullScreenWrapper2App.get_android_instance()\n",
    "    droid.makeToast(\"Exit\")\n",
    "    FullScreenWrapper2App.close_layout()\n",
    "```\n",
    "### 5. 显示和关闭布局\n",
    "Layout 类还提供了方法来显示和关闭界面：\n",
    "- `FullScreenWrapper2App.show_layout(MainScreen())`：显示由 `MainScreen` 类定义的布局。\n",
    "- `FullScreenWrapper2App.close_layout()`：关闭当前显示的布局界面。"
   ],
   "id": "eec8212b41b9b716"
  },
  {
   "metadata": {},
   "cell_type": "markdown",
   "source": "## Layout 类的常用方法",
   "id": "6c7d6dac0b5aadf0"
  },
  {
   "metadata": {},
   "cell_type": "markdown",
   "source": [
    "- `add_event`：\n",
    "  - 用于将事件处理函数与视图组件绑定。\n",
    "- `on_show`：\n",
    "  - 当布局显示时会调用此方法。你可以在这个方法中添加视图组件的事件监听器或执行初始化任务。\n",
    "- `on_close`：\n",
    "  - 当布局关闭时会调用此方法。你可以在这里执行资源清理或其他关闭时的操作。\n",
    "- `views`：\n",
    "  - `views` 是一个包含所有视图组件的字典。你可以通过 `self.views` 来访问布局中的各个组件。"
   ],
   "id": "7338694cfd5dfdc5"
  },
  {
   "metadata": {},
   "cell_type": "markdown",
   "source": "# 9. FullScreenWrapper2 事件",
   "id": "463370b0fd26de67"
  },
  {
   "metadata": {},
   "cell_type": "markdown",
   "source": "## EventHandler 类",
   "id": "71a289b87c520e74"
  },
  {
   "metadata": {},
   "cell_type": "markdown",
   "source": [
    "`EventHandler` 是一个通用的事件处理器，它可以用于捕获和匹配 SL4A 事件。事件数据通常是一个字典，包含事件名称 (name)、事件数据 (data) 和时间戳 (time)。事件处理器会根据事件名称和数据中的属性值来决定是否触发对应的处理函数。  \n",
    "### 构造函数：\n",
    "```python\n",
    "def __init__(self, event_name, compare_attribute, compare_value, view=None, handler_function=None):\n",
    "```\n",
    "- `event_name`: 事件的名称，如 \"click\"、\"itemclick\"、\"key\" 等。\n",
    "- `compare_attribute`: 要在事件数据中匹配的属性名，通常是 \"id\"、\"key\" 等。如果为 None，则只匹配事件名称。\n",
    "- `compare_value`: 与 `compare_attribute` 对应的值，用于进一步匹配事件。\n",
    "- `view`: 相关视图的引用，事件处理程序会触发时会传入该视图。\n",
    "- `handler_function`: 事件匹配时要调用的处理函数。\n",
    "### 方法：\n",
    "- `match_event_data(self, event_data)`:\n",
    "  - 用于匹配传入的 `event_data` 是否符合事件处理器的条件。事件数据是一个字典，包含 \"name\" 和 \"data\" 两个字段。该方法首先匹配事件名称，然后检查 \"data\" 中的属性值是否与 `compare_value` 匹配。\n",
    "- `__str__(self)`:\n",
    "  - 提供了一个字符串表示形式，便于调试和查看事件处理器的配置。\n",
    "\n",
    "### 示例：\n",
    "```python\n",
    "event_handler = EventHandler(\"click\", \"id\", \"button1\")\n",
    "if event_handler.match_event_data(event_data):\n",
    "    event_handler.handler_function(view, event_data)\n",
    "```\n",
    " 这里的 `event_handler` 会匹配事件名称为 \"click\"，且事件数据中的 \"id\" 为 \"button1\" 的事件。  "
   ],
   "id": "f8966a0a5a9a1160"
  },
  {
   "metadata": {},
   "cell_type": "markdown",
   "source": "## click_EventHandler 类",
   "id": "c94e535bce5533a1"
  },
  {
   "metadata": {},
   "cell_type": "markdown",
   "source": [
    "`click_EventHandler` 是一个预定义的事件处理器，专门用于处理点击事件。它通常与视图（如 TextView、Button、ImageView 等）配合使用。当视图被点击时，会触发相应的事件处理函数。  \n",
    "### 构造函数：\n",
    "```python\n",
    "def __init__(self, view, handler_function=None):\n",
    "```\n",
    "- `view`: 需要关联点击事件的视图组件。\n",
    "- `handler_function`: 事件匹配时调用的处理函数。\n",
    "\n",
    "`click_EventHandler` 类会自动根据视图的 `view_id` 和事件名称 \"click\" 来初始化 `EventHandler`。\n",
    "\n",
    "### 示例：\n",
    "```python\n",
    "click_handler = click_EventHandler(button, button_click_handler)\n",
    "```\n",
    "当按钮被点击时，`button_click_handler` 函数会被调用。"
   ],
   "id": "39a1e01102b334a"
  },
  {
   "metadata": {},
   "cell_type": "markdown",
   "source": "## itemclick_EventHandler 类",
   "id": "689e259ff4a76747"
  },
  {
   "metadata": {},
   "cell_type": "markdown",
   "source": [
    "`itemclick_EventHandler` 用于处理 `ListView` 的项点击事件。当用户点击 `ListView` 中的一项时，会触发相应的事件处理函数。\n",
    "### 构造函数：\n",
    "```python\n",
    "def __init__(self, view, handler_function=None):\n",
    "```\n",
    "- `view`: 需要关联项点击事件的 ListView。\n",
    "- `handler_function`: 事件匹配时调用的处理函数。\n",
    "\n",
    "`itemclick_EventHandler` 类会自动根据 `ListView` 的 `view_id` 和事件名称 \"itemclick\" 来初始化 `EventHandler`。  \n",
    "### 示例：\n",
    "```python\n",
    "item_click_handler = itemclick_EventHandler(listview, item_click_handler_function)\n",
    "```\n",
    " 当 `ListView` 中的某一项被点击时，`item_click_handler_function` 会被触发。"
   ],
   "id": "5b51f56b780f6412"
  },
  {
   "metadata": {},
   "cell_type": "markdown",
   "source": "## key_EventHandler 类",
   "id": "2d94dc1c476e22ee"
  },
  {
   "metadata": {},
   "cell_type": "markdown",
   "source": [
    "`key_EventHandler` 用于处理按键事件。默认情况下，它会监听 \"Back\" 按键 (key_id = \"4\") 的事件，但你也可以指定其他按键。  \n",
    "### 构造函数：\n",
    "```python\n",
    "def __init__(self, key_match_id=\"4\", view=None, handler_function=None):45\n",
    "```\n",
    "- `key_match_id`: 要匹配的按键 ID，默认值为 \"4\"（即返回键）。\n",
    "- `view`: 关联视图的引用，事件触发时会传入。\n",
    "- `handler_function`: 事件匹配时调用的处理函数。\n",
    "\n",
    "`key_EventHandler` 类会自动初始化 `EventHandler`，将 `event_name` 设置为 \"key\"，将 compare_attribute 设置为 \"key\"，并将 compare_value 设置为 `key_match_id`。\n",
    "### 示例：\n",
    "```python\n",
    "key_handler = key_EventHandler(\"4\", some_view, back_key_handler)\n",
    "```\n",
    "当按下返回键时，`back_key_handler` 会被触发。"
   ],
   "id": "6dacbbbd175f690f"
  },
  {
   "metadata": {},
   "cell_type": "markdown",
   "source": "# 10. 多功能信息dashboard",
   "id": "1e798a1479fd1b0"
  },
  {
   "metadata": {},
   "cell_type": "markdown",
   "source": "接下来，我们将基于QSL4A和FullScreenWrapper2，在QPython上创建一个简单图形用户界面。程序分为两个主要界面：主菜单界面和命令详情界面，实现了多种功能，比如显示设备状态、复制代码片段以及执行简单的设备操作。",
   "id": "637d72bde8136722"
  },
  {
   "metadata": {},
   "cell_type": "code",
   "outputs": [],
   "execution_count": null,
   "source": [
    "import androidhelper\n",
    "from qsl4ahelper.fullscreenwrapper2 import *\n",
    "\n",
    "# 菜单主界面布局定义\n",
    "content = \"\"\"<?xml version=\"1.0\" encoding=\"utf-8\"?>\n",
    "<LinearLayout\n",
    "\tandroid:layout_width=\"fill_parent\"\n",
    "\tandroid:layout_height=\"fill_parent\"\n",
    "\tandroid:background=\"#7f3faf\"\n",
    "\tandroid:orientation=\"vertical\"\n",
    "\txmlns:android=\"http://schemas.android.com/apk/res/android\">\n",
    "\t<ScrollView   \n",
    "        android:layout_width=\"fill_parent\"   \n",
    "        android:layout_height=\"50dp\"\n",
    "        android:layout_weight=\"1\" > \n",
    "    <!-- 标题 -->\n",
    "    <TextView\n",
    "\tandroid:id=\"@+id/Title\"\n",
    "\tandroid:layout_width=\"fill_parent\"\n",
    "\tandroid:layout_height=\"wrap_content\"\n",
    "\tandroid:textSize=\"7dp\"\n",
    "\tandroid:text=\"Dashboard\"\n",
    "\tandroid:background=\"#af7f3f\"\n",
    "\tandroid:textColor=\"#ffffff\"\n",
    "\tandroid:textStyle=\"bold\"\n",
    "\tandroid:gravity=\"center\"\n",
    "\t/>\n",
    "    </ScrollView>\n",
    "    <!-- 菜单显示 -->\n",
    "    <ListView\n",
    "        android:id=\"@+id/listview\"\n",
    "        android:layout_width=\"match_parent\"\n",
    "        android:layout_height=\"wrap_content\"\n",
    "        android:layout_weight=\"20\"\n",
    "        android:background=\"#7f3faf\"\n",
    "    />\n",
    "    <!-- 退出按键 -->\n",
    "    <Button\n",
    "\tandroid:layout_width=\"fill_parent\"\n",
    "\tandroid:layout_height=\"50dp\"\n",
    "\tandroid:text=\"Exit\"\n",
    "\tandroid:id=\"@+id/but_cancle\"\n",
    "\tandroid:textAllCaps=\"false\"\n",
    "\tandroid:textSize=\"5dp\"\n",
    "\tandroid:background=\"#3faf7f\"\n",
    "\tandroid:textColor=\"#ffffff\"\n",
    "\tandroid:layout_weight=\"1\"\n",
    "\tandroid:gravity=\"center\"/>\n",
    "</LinearLayout>\n",
    "\"\"\"\n",
    "\n",
    "# 命令详情界面布局定义\n",
    "detail_content = \"\"\"<?xml version=\"1.0\" encoding=\"utf-8\"?>\n",
    "<LinearLayout\n",
    "\tandroid:layout_width=\"fill_parent\"\n",
    "\tandroid:layout_height=\"fill_parent\"\n",
    "\tandroid:background=\"#7f3faf\"\n",
    "\tandroid:orientation=\"vertical\"\n",
    "\txmlns:android=\"http://schemas.android.com/apk/res/android\">\n",
    "\t<!-- 标题 -->\n",
    "\t<ScrollView   \n",
    "        android:layout_width=\"fill_parent\"   \n",
    "        android:layout_height=\"50dp\"\n",
    "        android:layout_weight=\"1\" > \n",
    "    <TextView\n",
    "\tandroid:id=\"@+id/Title\"\n",
    "\tandroid:layout_width=\"fill_parent\"\n",
    "\tandroid:layout_height=\"wrap_content\"\n",
    "\tandroid:textSize=\"7dp\"\n",
    "\tandroid:text=\"Dashboard\"\n",
    "\tandroid:background=\"#af7f3f\"\n",
    "\tandroid:textColor=\"#ffffff\"\n",
    "\tandroid:textStyle=\"bold\"\n",
    "\tandroid:gravity=\"center\"\n",
    "\t/>\n",
    "    </ScrollView>\n",
    "    <!-- 命令执行结果显示框 -->\n",
    "    <ListView\n",
    "        android:id=\"@+id/listview\"\n",
    "        android:layout_width=\"match_parent\"\n",
    "        android:layout_height=\"wrap_content\"\n",
    "        android:layout_weight=\"20\"\n",
    "        android:background=\"#7f3faf\"\n",
    "    />\n",
    "    <LinearLayout\n",
    "        android:layout_width=\"match_parent\"\n",
    "        android:layout_height=\"wrap_content\"\n",
    "        android:orientation=\"vertical\"\n",
    "        android:layout_margin=\"8dp\">\n",
    "        \n",
    "        <!-- 代码显示框 -->\n",
    "        <ScrollView\n",
    "            android:layout_width=\"match_parent\"\n",
    "            android:layout_height=\"wrap_content\"\n",
    "            android:background=\"#ffffff\"\n",
    "            android:padding=\"8dp\"\n",
    "            android:elevation=\"4dp\">\n",
    "            <TextView\n",
    "                android:id=\"@+id/codeTextView\"\n",
    "                android:layout_width=\"wrap_content\"\n",
    "                android:layout_height=\"wrap_content\"\n",
    "                android:lineSpacingExtra=\"3dp\"\n",
    "                android:text=\"\"\n",
    "                android:textColor=\"#000000\"\n",
    "                android:fontFamily=\"monospace\"\n",
    "                android:gravity=\"start\"/>\n",
    "        </ScrollView>\n",
    "    </LinearLayout>\n",
    "\t<LinearLayout\n",
    "\t\tandroid:layout_width=\"fill_parent\"\n",
    "\t\tandroid:layout_height=\"50dp\"\n",
    "\t\tandroid:orientation=\"horizontal\"\n",
    "\t\tandroid:layout_weight=\"8\">\n",
    "    <!-- 执行按键 -->\n",
    "\t<Button\n",
    "\t\tandroid:layout_width=\"fill_parent\"\n",
    "\t\tandroid:layout_height=\"50dp\"\n",
    "\t\tandroid:text=\"Try\"\n",
    "\t\tandroid:id=\"@+id/but_try\"\n",
    "\t\tandroid:textAllCaps=\"false\"\n",
    "\t\tandroid:background=\"#007f7f\"\n",
    "\t\tandroid:textColor=\"#ffffffff\"\n",
    "\t\tandroid:layout_weight=\"1\"\n",
    "\t\tandroid:gravity=\"center\"/>\n",
    "    <!-- 复制按键 -->\n",
    "\t<Button\n",
    "\t\tandroid:layout_width=\"fill_parent\"\n",
    "\t\tandroid:layout_height=\"50dp\"\n",
    "\t\tandroid:text=\"Copy\"\n",
    "\t\tandroid:id=\"@+id/but_copy\"\n",
    "\t\tandroid:textAllCaps=\"false\"\n",
    "\t\tandroid:background=\"#7f7f00\"\n",
    "\t\tandroid:textColor=\"#ffffffff\"\n",
    "\t\tandroid:layout_weight=\"1\"\n",
    "\t\tandroid:gravity=\"center\"/>\n",
    "\t</LinearLayout>\n",
    "\t<!-- 返回按键 -->\n",
    "\t<Button\n",
    "\tandroid:layout_width=\"fill_parent\"\n",
    "\tandroid:layout_height=\"50dp\"\n",
    "\tandroid:text=\"Back\"\n",
    "\tandroid:id=\"@+id/but_cancle\"\n",
    "\tandroid:textAllCaps=\"false\"\n",
    "\tandroid:textSize=\"5dp\"\n",
    "\tandroid:background=\"#3faf7f\"\n",
    "\tandroid:textColor=\"#ffffff\"\n",
    "\tandroid:layout_weight=\"1\"\n",
    "\tandroid:gravity=\"center\"/>\n",
    "</LinearLayout>\n",
    "\"\"\"\n",
    "\n",
    "# 全局变量，用于记录菜单界面选中的命令\n",
    "cmd_position = 0\n",
    "\n",
    "# 菜单界面显示的命令列表\n",
    "INDEX_PAGE_LIST = [\n",
    "    'Location',\n",
    "    'SIM State',\n",
    "    'WiFi State',\n",
    "    'Battery State',\n",
    "    'Vibrate',\n",
    "    'Microphone',\n",
    "    'Camera',\n",
    "    'Sensors',\n",
    "    'Application Manager'\n",
    "]\n",
    "\n",
    "\n",
    "class GetCommandResult(object):\n",
    "    \"\"\"执行命令，获取对应的结果和文档\"\"\"\n",
    "    def __init__(self, cmd, droid):\n",
    "        self.cmd = cmd\n",
    "        self.droid = droid\n",
    "\n",
    "    def get_result(self):\n",
    "        function_name = f'_get_{self.cmd}'\n",
    "        if hasattr(self, function_name):\n",
    "            # 判断是否包含指定命令的执行方法，已有的方法则返回执行结果\n",
    "            return getattr(self, function_name)()\n",
    "        return []\n",
    "\n",
    "    def get_doc(self):\n",
    "        # 判断是否包含指定命令的执行方法，已有的方法则对应代码文档\n",
    "        function_name = f'_get_{self.cmd}'\n",
    "        if hasattr(self, function_name):\n",
    "            return getattr(self, function_name).__doc__\n",
    "        return ''\n",
    "\n",
    "    def _get_location(self):\n",
    "        \"\"\"droid.startLocating(1000, 5)\\n\"\"\" \\\n",
    "            \"\"\"location = droid.readLocation().result\\n\"\"\" \\\n",
    "            \"\"\"droid.stopLocating()\"\"\"\n",
    "        # 启动位置服务\n",
    "        self.droid.startLocating(1000, 5)\n",
    "        # 获取位置信息\n",
    "        location = self.droid.readLocation().result\n",
    "        # 使用完后停止定位\n",
    "        self.droid.stopLocating()\n",
    "        if location:\n",
    "            network_data = location['network']\n",
    "            show_list_items = [\n",
    "                f'{key}: {value}'\n",
    "                for key, value in network_data.items()\n",
    "            ]\n",
    "            return show_list_items\n",
    "        return []\n",
    "\n",
    "    def _get_wifi_state(self):\n",
    "        \"\"\"wifi_info = droid.wifiGetConnectionInfo().result\"\"\"\n",
    "        # 获取wifi状态数据\n",
    "        wifi_info = self.droid.wifiGetConnectionInfo().result\n",
    "        show_list_items = [\n",
    "            f'{key}: {value}'\n",
    "            for key, value in wifi_info.items()\n",
    "        ]  # 将获取到的所有结果显示到页面上\n",
    "        return show_list_items\n",
    "\n",
    "    def _get_sim_state(self):\n",
    "        \"\"\"sim_state = droid.getSimState().result\\n\"\"\" \\\n",
    "            \"\"\"network_operator = droid.getNetworkOperator().result\\n\"\"\" \\\n",
    "            \"\"\"network_operator_name = droid.getNetworkOperatorName().result\"\"\"\n",
    "        show_list_items = [\n",
    "            f'State: {self.droid.getSimState().result}',  # 获取SIM卡信息\n",
    "            f'NetworkOperator: {self.droid.getNetworkOperator().result}',  # 返回当前注册运营商的数字名称 (MCC+MNC)\n",
    "            f'NetworkOperatorName: {self.droid.getNetworkOperatorName().result}',  # 返回当前注册运营商的名称\n",
    "        ]\n",
    "        return show_list_items\n",
    "\n",
    "    def _get_battery_state(self):\n",
    "        \"\"\"battery_status = droid.batteryGetStatus().result\\n\"\"\" \\\n",
    "            \"\"\"battery_level = droid.batteryGetLevel().result\\n\"\"\" \\\n",
    "            \"\"\"battery_temperature = droid.batteryGetTemperature().result\\n\"\"\"\n",
    "        show_list_items = [\n",
    "            f'Battery Status: {self.droid.batteryGetStatus().result}',  # 获取电池状态\n",
    "            f'Battery Level: {self.droid.batteryGetLevel().result}',  # 获取电池电量\n",
    "            f'Battery Temperature: {self.droid.batteryGetTemperature().result}',  # 获取电池温度\n",
    "        ]\n",
    "        return show_list_items\n",
    "\n",
    "    def _get_vibrate(self):\n",
    "        \"\"\"droid.vibrate(300)\"\"\"\n",
    "        self.droid.vibrate(300)  # 振动300毫秒\n",
    "        return ['Vibrate(300)']\n",
    "\n",
    "    def _get_microphone(self):\n",
    "        \"\"\"droid.ttsSpeak(\"Start recording\")\\n\"\"\"\\\n",
    "            \"\"\"result = droid.recorderStartMicrophone()\\n\"\"\"\\\n",
    "            \"\"\"time.sleep(5)\\n\"\"\"\\\n",
    "            \"\"\"droid.ttsSpeak(\"End of recording\")\\n\"\"\"\\\n",
    "            \"\"\"droid.recorderStop()\\n\"\"\"\\\n",
    "            \"\"\"recording_result = result.result\\n\"\"\"\\\n",
    "            \"\"\"droid.mediaPlay(recording_result)\"\"\"\n",
    "        self.droid.ttsSpeak(\"Start recording\")\n",
    "        # 开始录音\n",
    "        result = self.droid.recorderStartMicrophone()\n",
    "        # 等待录音5秒\n",
    "        time.sleep(5)\n",
    "        self.droid.ttsSpeak(\"End of recording\")\n",
    "        # 结束录音\n",
    "        self.droid.recorderStop()\n",
    "        # 获取录音结果\n",
    "        recording_result = result.result\n",
    "        # 播放录音文件\n",
    "        self.droid.mediaPlay(recording_result)\n",
    "        return [f'Voice: {recording_result}']\n",
    "\n",
    "    def _get_camera(self):\n",
    "        \"\"\"droid.cameraCapturePicture().result\"\"\"\n",
    "        # 打开相机拍照\n",
    "        result = self.droid.cameraCapturePicture().result\n",
    "        return [f'Picture: {result}']\n",
    "\n",
    "    def _get_sensors(self):\n",
    "        \"\"\"droid.startSensingTimed(4, 1000)\"\"\"\n",
    "        # 开启传感器\n",
    "        self.droid.startSensingTimed(4, 1000)\n",
    "        # 读取传感器结果\n",
    "        result = self.droid.readSensors().result\n",
    "        # 关闭传感器\n",
    "        self.droid.stopSensing()\n",
    "        return [f'{key}: {value}'\n",
    "                for key, value in result.items()]\n",
    "\n",
    "    def _get_application_manager(self):\n",
    "        \"\"\"running_app = droid.getRunningPackages().result\\n\"\"\"\\\n",
    "            \"\"\"launchable_packages = droid.getLaunchablePackages().result\"\"\"\n",
    "        # 获取正在运行的应用\n",
    "        running_app = self.droid.getRunningPackages().result\n",
    "        # 获取所有可启动应用程序类名的列表\n",
    "        launchable_packages = self.droid.getLaunchablePackages().result\n",
    "        launchable_packages = '\\n' + '\\n'.join([f'{key}: {val}' for key, val in launchable_packages.items()])\n",
    "        return [f'Running Packages: {\";\".join(running_app)}',\n",
    "                f'Launchable Packages: {launchable_packages}']\n",
    "\n",
    "\n",
    "class MainScreen(Layout):\n",
    "    def __init__(self):\n",
    "        super(MainScreen, self).__init__(content, \"IndexApp\")\n",
    "\n",
    "    def on_show(self):\n",
    "        list_view = self.views.listview\n",
    "        # 将菜单列表设置到主界面\n",
    "        list_view.set_listitems(INDEX_PAGE_LIST)\n",
    "        # 为菜单项添加点击事件\n",
    "        list_view.add_event(itemclick_EventHandler(list_view, self.cmd_details))\n",
    "        # 为退出件添加事件\n",
    "        self.views.but_cancle.add_event(click_EventHandler(self.views.but_cancle, self.exit))\n",
    "\n",
    "    def cmd_details(self, view, event):\n",
    "        global cmd_position\n",
    "        # 获取用户点击的菜单项位置\n",
    "        cmd_position = event['data']['position']\n",
    "        # 关闭当前界面\n",
    "        FullScreenWrapper2App.close_layout()\n",
    "\n",
    "    def on_close(self):\n",
    "        pass\n",
    "\n",
    "    def exit(self, view, dummy):\n",
    "        droid = FullScreenWrapper2App.get_android_instance()\n",
    "        droid.makeToast(\"Exit\")\n",
    "        # 关闭界面\n",
    "        FullScreenWrapper2App.close_layout()\n",
    "        global cmd_position\n",
    "        # 设置全局变量\n",
    "        cmd_position = -1\n",
    "\n",
    "\n",
    "class CommandDetails(Layout):\n",
    "    def __init__(self):\n",
    "        super(CommandDetails, self).__init__(detail_content, \"DetailsApp\")\n",
    "\n",
    "    def on_show(self):\n",
    "        list_view = self.views.listview\n",
    "        droid = FullScreenWrapper2App.get_android_instance()\n",
    "        position = int(cmd_position)\n",
    "        title = 'Details'\n",
    "        try:\n",
    "            # 根据全局变量cmd_position获取对应的命令\n",
    "            title = INDEX_PAGE_LIST[position]\n",
    "            cmd = title.lower().replace(' ', '_')\n",
    "            cmd_res = GetCommandResult(cmd, droid)\n",
    "            # 获取命令对应的执行结果\n",
    "            show_list_items = cmd_res.get_result()\n",
    "            # 获取命令对应的文档\n",
    "            code = cmd_res.get_doc()\n",
    "            # 将代码设置到界面的代码显示框中\n",
    "            self.views.codeTextView.text = code\n",
    "        except Exception as e:\n",
    "            show_list_items = [f'ServerError: {str(e)}']\n",
    "        # 将命令执行结果设置到页面\n",
    "        list_view.set_listitems(show_list_items)\n",
    "        # 将命令设置为页面标题\n",
    "        self.views.Title.text = title\n",
    "        # 为复制按键添加事件\n",
    "        self.views.but_copy.add_event(click_EventHandler(self.views.but_copy, self.copy_code))\n",
    "        # 为返回按键添加事件\n",
    "        self.views.but_cancle.add_event(click_EventHandler(self.views.but_cancle, self.back))\n",
    "        # 为执行按键添加事件\n",
    "        self.views.but_try.add_event(click_EventHandler(self.views.but_try, self.retry))\n",
    "\n",
    "    def on_close(self):\n",
    "        pass\n",
    "\n",
    "    def back(self, view, dummy):\n",
    "        # 关闭当前页面\n",
    "        FullScreenWrapper2App.close_layout()\n",
    "\n",
    "    def copy_code(self, view, dummy):\n",
    "        droid = FullScreenWrapper2App.get_android_instance()\n",
    "        # 将代码框中的文本设置到剪贴板\n",
    "        droid.setClipboard(self.views.codeTextView.text)\n",
    "        droid.makeToast(\"Copied\")\n",
    "\n",
    "    def retry(self, view, dummy):\n",
    "        # 执行命令，显示结果\n",
    "        list_view = self.views.listview\n",
    "        droid = FullScreenWrapper2App.get_android_instance()\n",
    "        position = int(cmd_position)\n",
    "        try:\n",
    "            title = INDEX_PAGE_LIST[position]\n",
    "            cmd = title.lower().replace(' ', '_')\n",
    "            cmd_res = GetCommandResult(cmd, droid)\n",
    "            show_list_items = cmd_res.get_result()\n",
    "            code = cmd_res.get_doc()\n",
    "            self.views.codeTextView.text = code\n",
    "        except Exception as e:\n",
    "            show_list_items = [f'ServerError: {str(e)}']\n",
    "        list_view.set_listitems(show_list_items)\n",
    "\n",
    "\n",
    "def index_page():\n",
    "    # 运行主界面\n",
    "    droid = androidhelper.Android()\n",
    "    FullScreenWrapper2App.initialize(droid)\n",
    "    FullScreenWrapper2App.show_layout(MainScreen())\n",
    "    FullScreenWrapper2App.eventloop()\n",
    "    return cmd_position\n",
    "\n",
    "\n",
    "def detail_page():\n",
    "    # 运行命令详情页面\n",
    "    droid = androidhelper.Android()\n",
    "    FullScreenWrapper2App.initialize(droid)\n",
    "    FullScreenWrapper2App.show_layout(CommandDetails())\n",
    "    FullScreenWrapper2App.eventloop()\n",
    "\n",
    "\n",
    "if __name__ == '__main__':\n",
    "    while True:\n",
    "        position = index_page()\n",
    "        if position == -1:  # 退出应用\n",
    "            break\n",
    "        detail_page()\n"
   ],
   "id": "3768a33d9a7e56d2"
  }
 ],
 "metadata": {
  "kernelspec": {
   "display_name": "Python 3",
   "language": "python",
   "name": "python3"
  },
  "language_info": {
   "codemirror_mode": {
    "name": "ipython",
    "version": 2
   },
   "file_extension": ".py",
   "mimetype": "text/x-python",
   "name": "python",
   "nbconvert_exporter": "python",
   "pygments_lexer": "ipython2",
   "version": "2.7.6"
  }
 },
 "nbformat": 4,
 "nbformat_minor": 5
}
